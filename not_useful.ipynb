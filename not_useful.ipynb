{
 "cells": [
  {
   "cell_type": "code",
   "execution_count": 1,
   "metadata": {},
   "outputs": [
    {
     "name": "stdout",
     "output_type": "stream",
     "text": [
      "   mm_yyyy  num_all_pdfs  time_contratacion  num_contratacion_pdfs  \\\n",
      "0  01-2016          3785         268.772516                   1394   \n",
      "1  02-2016          5437        1237.349596                   1468   \n",
      "2  03-2016          5804         206.024476                   1555   \n",
      "3  04-2016          6908         228.959492                   2038   \n",
      "4  05-2016          7266         300.628599                   1876   \n",
      "\n",
      "   time_anuncio  num_anuncio_pdfs  time_formalizacion  num_formalizacion_pdfs  \\\n",
      "0     23.742939               205           20.309512                     536   \n",
      "1     23.235818               152           20.825374                     507   \n",
      "2     25.503661               118           23.852323                     415   \n",
      "3     34.000661               206           31.081802                     516   \n",
      "4     30.424339               191           27.891502                     435   \n",
      "\n",
      "        execution_date  \n",
      "0  2024-06-12 10:30:36  \n",
      "1  2024-06-12 12:48:10  \n",
      "2  2024-06-12 15:11:26  \n",
      "3  2024-06-12 17:56:19  \n",
      "4  2024-06-12 20:54:39  \n"
     ]
    }
   ],
   "source": [
    "import pandas as pd\n",
    "\n",
    "classify = pd.read_csv('data/classify_time.csv')\n",
    "print(classify.head())"
   ]
  },
  {
   "cell_type": "code",
   "execution_count": 2,
   "metadata": {},
   "outputs": [
    {
     "name": "stdout",
     "output_type": "stream",
     "text": [
      "18976\n"
     ]
    }
   ],
   "source": [
    "# Sum column num_formalizacion_pdfs\n",
    "print(classify['num_formalizacion_pdfs'].sum())"
   ]
  },
  {
   "cell_type": "code",
   "execution_count": 3,
   "metadata": {},
   "outputs": [],
   "source": [
    "import json\n",
    "with open('data/mm_yyyy_size.json', 'r') as f:\n",
    "    data = json.load(f)\n"
   ]
  },
  {
   "cell_type": "code",
   "execution_count": 6,
   "metadata": {},
   "outputs": [],
   "source": [
    "# Sum all the sizes\n",
    "total_size = 0\n",
    "for mm_yyyy, size in data.items():\n",
    "    total_size += size"
   ]
  },
  {
   "cell_type": "code",
   "execution_count": 7,
   "metadata": {},
   "outputs": [
    {
     "data": {
      "text/plain": [
       "300"
      ]
     },
     "execution_count": 7,
     "metadata": {},
     "output_type": "execute_result"
    }
   ],
   "source": [
    "total_size"
   ]
  },
  {
   "cell_type": "code",
   "execution_count": 8,
   "metadata": {},
   "outputs": [],
   "source": [
    "with open(\"data/mm_yyyy_sampled_files.json\", \"r\") as f:\n",
    "    data = json.load(f)"
   ]
  },
  {
   "cell_type": "code",
   "execution_count": 9,
   "metadata": {},
   "outputs": [
    {
     "name": "stdout",
     "output_type": "stream",
     "text": [
      "300\n"
     ]
    }
   ],
   "source": [
    "total_num_files = 0\n",
    "for mm_yyyy, files in data.items():\n",
    "    total_num_files += len(files)\n",
    "print(total_num_files)"
   ]
  },
  {
   "cell_type": "code",
   "execution_count": null,
   "metadata": {},
   "outputs": [],
   "source": []
  }
 ],
 "metadata": {
  "kernelspec": {
   "display_name": "tfg_analysis",
   "language": "python",
   "name": "python3"
  },
  "language_info": {
   "codemirror_mode": {
    "name": "ipython",
    "version": 3
   },
   "file_extension": ".py",
   "mimetype": "text/x-python",
   "name": "python",
   "nbconvert_exporter": "python",
   "pygments_lexer": "ipython3",
   "version": "3.12.4"
  }
 },
 "nbformat": 4,
 "nbformat_minor": 2
}
