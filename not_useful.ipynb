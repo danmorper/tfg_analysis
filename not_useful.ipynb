{
 "cells": [
  {
   "cell_type": "code",
   "execution_count": 1,
   "metadata": {},
   "outputs": [
    {
     "name": "stdout",
     "output_type": "stream",
     "text": [
      "   mm_yyyy  num_all_pdfs  time_contratacion  num_contratacion_pdfs  \\\n",
      "0  01-2016          3785         268.772516                   1394   \n",
      "1  02-2016          5437        1237.349596                   1468   \n",
      "2  03-2016          5804         206.024476                   1555   \n",
      "3  04-2016          6908         228.959492                   2038   \n",
      "4  05-2016          7266         300.628599                   1876   \n",
      "\n",
      "   time_anuncio  num_anuncio_pdfs  time_formalizacion  num_formalizacion_pdfs  \\\n",
      "0     23.742939               205           20.309512                     536   \n",
      "1     23.235818               152           20.825374                     507   \n",
      "2     25.503661               118           23.852323                     415   \n",
      "3     34.000661               206           31.081802                     516   \n",
      "4     30.424339               191           27.891502                     435   \n",
      "\n",
      "        execution_date  \n",
      "0  2024-06-12 10:30:36  \n",
      "1  2024-06-12 12:48:10  \n",
      "2  2024-06-12 15:11:26  \n",
      "3  2024-06-12 17:56:19  \n",
      "4  2024-06-12 20:54:39  \n"
     ]
    }
   ],
   "source": [
    "import pandas as pd\n",
    "\n",
    "classify = pd.read_csv('data/classify_time.csv')\n",
    "print(classify.head())"
   ]
  },
  {
   "cell_type": "code",
   "execution_count": 2,
   "metadata": {},
   "outputs": [
    {
     "name": "stdout",
     "output_type": "stream",
     "text": [
      "18976\n"
     ]
    }
   ],
   "source": [
    "# Sum column num_formalizacion_pdfs\n",
    "print(classify['num_formalizacion_pdfs'].sum())"
   ]
  },
  {
   "cell_type": "code",
   "execution_count": 3,
   "metadata": {},
   "outputs": [],
   "source": [
    "import json\n",
    "with open('data/mm_yyyy_size.json', 'r') as f:\n",
    "    data = json.load(f)\n"
   ]
  },
  {
   "cell_type": "code",
   "execution_count": 6,
   "metadata": {},
   "outputs": [],
   "source": [
    "# Sum all the sizes\n",
    "total_size = 0\n",
    "for mm_yyyy, size in data.items():\n",
    "    total_size += size"
   ]
  },
  {
   "cell_type": "code",
   "execution_count": 7,
   "metadata": {},
   "outputs": [
    {
     "data": {
      "text/plain": [
       "300"
      ]
     },
     "execution_count": 7,
     "metadata": {},
     "output_type": "execute_result"
    }
   ],
   "source": [
    "total_size"
   ]
  },
  {
   "cell_type": "code",
   "execution_count": 8,
   "metadata": {},
   "outputs": [],
   "source": [
    "with open(\"data/mm_yyyy_sampled_files.json\", \"r\") as f:\n",
    "    data = json.load(f)"
   ]
  },
  {
   "cell_type": "code",
   "execution_count": 9,
   "metadata": {},
   "outputs": [
    {
     "name": "stdout",
     "output_type": "stream",
     "text": [
      "300\n"
     ]
    }
   ],
   "source": [
    "total_num_files = 0\n",
    "for mm_yyyy, files in data.items():\n",
    "    total_num_files += len(files)\n",
    "print(total_num_files)"
   ]
  },
  {
   "cell_type": "code",
   "execution_count": 7,
   "metadata": {},
   "outputs": [
    {
     "name": "stdout",
     "output_type": "stream",
     "text": [
      "                   pdf  mm_yyyy  \\\n",
      "0  BOE-B-2017-3514.pdf  01-2017   \n",
      "1   BOE-B-2017-240.pdf  01-2017   \n",
      "2  BOE-B-2017-2859.pdf  01-2017   \n",
      "3   BOE-B-2017-470.pdf  01-2017   \n",
      "4  BOE-B-2017-4174.pdf  01-2017   \n",
      "\n",
      "                                             company      amount currency  \\\n",
      "0                 Alavés Montajes y Realización S.L.  1016400.00    euros   \n",
      "1      International Business Machines S.A. (I.B.M.)  3921166.68    euros   \n",
      "2  Integra Mantenimiento Gestión y Servicios Inte...   440618.45    euros   \n",
      "3                                  Teknoservice S.L.  1011150.00    euros   \n",
      "4                              Econocom Osiatis S.A.   360000.00    euros   \n",
      "\n",
      "                                        adjudicadora                    tipo  \\\n",
      "0                     Agència Valenciana del Turisme          Contrato Mixto   \n",
      "1                          Diputación Foral de Álava  Contrato de suministro   \n",
      "2  Ayuntamiento de Madrid. Área de Gobierno de Eq...               Servicios   \n",
      "3  Consejería de Educación y Universidades del Go...              Suministro   \n",
      "4                    Ayuntamiento de Vitoria-Gasteiz                Servicio   \n",
      "\n",
      "  tramitacion                                      procedimiento   model  \\\n",
      "0     Urgente                           Negociado sin publicidad  llama3   \n",
      "1  Anticipada  Negociado sin publicidad por razones de exclus...  llama3   \n",
      "2   Ordinaria                                            Abierto  llama3   \n",
      "3   Ordinaria                                            Abierto  llama3   \n",
      "4      Normal                                            Abierto  llama3   \n",
      "\n",
      "     time  \n",
      "0  404.64  \n",
      "1  411.99  \n",
      "2  352.15  \n",
      "3  368.93  \n",
      "4  414.85  \n"
     ]
    }
   ],
   "source": [
    "import pandas as pd\n",
    "# Read file comparison.csv\n",
    "comparison = pd.read_csv('comparison.csv')\n",
    "print(comparison.head())"
   ]
  },
  {
   "cell_type": "code",
   "execution_count": 4,
   "metadata": {},
   "outputs": [
    {
     "name": "stdout",
     "output_type": "stream",
     "text": [
      "pdf\n",
      "BOE-B-2017-3514.pdf     2\n",
      "BOE-B-2017-30150.pdf    2\n",
      "BOE-B-2017-23566.pdf    2\n",
      "BOE-B-2017-21753.pdf    2\n",
      "BOE-B-2017-24124.pdf    2\n",
      "                       ..\n",
      "BOE-B-2017-44452.pdf    1\n",
      "BOE-B-2017-45962.pdf    1\n",
      "BOE-B-2017-41644.pdf    1\n",
      "BOE-B-2017-43105.pdf    1\n",
      "BOE-B-2017-43714.pdf    1\n",
      "Name: count, Length: 165, dtype: int64\n"
     ]
    }
   ],
   "source": [
    "# Check occurrences of pdfs\n",
    "print(comparison['pdf'].value_counts())"
   ]
  },
  {
   "cell_type": "code",
   "execution_count": 10,
   "metadata": {},
   "outputs": [],
   "source": [
    "# mm_yyyy=01-2017\n",
    "jan_2017 = comparison[comparison['mm_yyyy'] == '01-2017']"
   ]
  },
  {
   "cell_type": "code",
   "execution_count": 11,
   "metadata": {},
   "outputs": [
    {
     "data": {
      "text/plain": [
       "pdf\n",
       "BOE-B-2017-3514.pdf    2\n",
       "BOE-B-2017-240.pdf     2\n",
       "BOE-B-2017-2289.pdf    2\n",
       "BOE-B-2017-5044.pdf    2\n",
       "BOE-B-2017-5466.pdf    2\n",
       "BOE-B-2017-2714.pdf    2\n",
       "BOE-B-2017-5739.pdf    2\n",
       "BOE-B-2017-491.pdf     2\n",
       "BOE-B-2017-5482.pdf    2\n",
       "BOE-B-2017-4505.pdf    2\n",
       "BOE-B-2017-4312.pdf    2\n",
       "BOE-B-2017-1058.pdf    2\n",
       "BOE-B-2017-4278.pdf    2\n",
       "BOE-B-2017-1328.pdf    2\n",
       "BOE-B-2017-3566.pdf    2\n",
       "BOE-B-2017-4410.pdf    2\n",
       "BOE-B-2017-2564.pdf    2\n",
       "BOE-B-2017-5745.pdf    2\n",
       "BOE-B-2017-5435.pdf    2\n",
       "BOE-B-2017-3475.pdf    2\n",
       "BOE-B-2017-5460.pdf    2\n",
       "BOE-B-2017-4398.pdf    2\n",
       "BOE-B-2017-3892.pdf    2\n",
       "BOE-B-2017-2824.pdf    2\n",
       "BOE-B-2017-4174.pdf    2\n",
       "BOE-B-2017-470.pdf     2\n",
       "BOE-B-2017-2859.pdf    2\n",
       "BOE-B-2017-3907.pdf    2\n",
       "Name: count, dtype: int64"
      ]
     },
     "execution_count": 11,
     "metadata": {},
     "output_type": "execute_result"
    }
   ],
   "source": [
    "jan_2017['pdf'].value_counts()"
   ]
  },
  {
   "cell_type": "code",
   "execution_count": 18,
   "metadata": {},
   "outputs": [
    {
     "data": {
      "text/plain": [
       "model\n",
       "llama3    392.487500\n",
       "phi3      262.702857\n",
       "Name: time, dtype: float64"
      ]
     },
     "execution_count": 18,
     "metadata": {},
     "output_type": "execute_result"
    }
   ],
   "source": [
    "# Compare time depending on model\n",
    "jan_2017.groupby('model')['time'].mean()"
   ]
  },
  {
   "cell_type": "code",
   "execution_count": 19,
   "metadata": {},
   "outputs": [
    {
     "data": {
      "image/png": "[encoded data removed]",
      "text/plain": [
       "<Figure size 640x480 with 1 Axes>"
      ]
     },
     "metadata": {},
     "output_type": "display_data"
    }
   ],
   "source": [
    "    # Graph distribution of time\n",
    "import matplotlib.pyplot as plt\n",
    "jan_2017['time'].hist()\n",
    "plt.show()"
   ]
  },
  {
   "cell_type": "code",
   "execution_count": 20,
   "metadata": {},
   "outputs": [
    {
     "data": {
      "image/png": "[encoded data removed]",
      "text/plain": [
       "<Figure size 640x480 with 2 Axes>"
      ]
     },
     "metadata": {},
     "output_type": "display_data"
    }
   ],
   "source": [
    "# Graph distribution of time depending on model\n",
    "jan_2017.hist(column='time', by='model')\n",
    "plt.show()"
   ]
  },
  {
   "cell_type": "code",
   "execution_count": 21,
   "metadata": {},
   "outputs": [
    {
     "data": {
      "image/png": "[encoded data removed]",
      "text/plain": [
       "<Figure size 1400x700 with 1 Axes>"
      ]
     },
     "metadata": {},
     "output_type": "display_data"
    }
   ],
   "source": [
    "# Graph distribution of time depending on model but in the same graph different colors\n",
    "plt.figure(figsize=(14, 7))\n",
    "for model, group in jan_2017.groupby('model'):\n",
    "    group['time'].hist(label=model, alpha=0.5)\n",
    "plt.legend()\n",
    "plt.show()"
   ]
  },
  {
   "cell_type": "code",
   "execution_count": 24,
   "metadata": {},
   "outputs": [],
   "source": [
    "# Remove outliers and do the same\n",
    "jan_2017 = jan_2017[jan_2017['time'] < 800]"
   ]
  },
  {
   "cell_type": "code",
   "execution_count": 31,
   "metadata": {},
   "outputs": [
    {
     "data": {
      "image/png": "[encoded data removed]",
      "text/plain": [
       "<Figure size 1400x700 with 1 Axes>"
      ]
     },
     "metadata": {},
     "output_type": "display_data"
    }
   ],
   "source": [
    "plt.figure(figsize=(14, 7))\n",
    "for model, group in jan_2017.groupby('model'):\n",
    "    group['time'].hist(label=model, alpha=0.5)\n",
    "plt.legend()\n",
    "plt.show()"
   ]
  },
  {
   "cell_type": "code",
   "execution_count": 37,
   "metadata": {},
   "outputs": [
    {
     "name": "stdout",
     "output_type": "stream",
     "text": [
      "pdf              0\n",
      "mm_yyyy          0\n",
      "company          4\n",
      "amount           3\n",
      "currency         3\n",
      "adjudicadora     1\n",
      "tipo             0\n",
      "tramitacion      4\n",
      "procedimiento    4\n",
      "model            0\n",
      "time             0\n",
      "dtype: int64\n"
     ]
    }
   ],
   "source": [
    "# Count none values in the whole dataframe\n",
    "print(jan_2017.isnull().sum())"
   ]
  },
  {
   "cell_type": "code",
   "execution_count": 38,
   "metadata": {},
   "outputs": [
    {
     "name": "stdout",
     "output_type": "stream",
     "text": [
      "        pdf  mm_yyyy  company  amount  currency  adjudicadora  tipo  \\\n",
      "model                                                                 \n",
      "llama3    0        0        4       3         3             1     0   \n",
      "phi3      0        0        0       0         0             0     0   \n",
      "\n",
      "        tramitacion  procedimiento  model  time  \n",
      "model                                            \n",
      "llama3            2              2      0     0  \n",
      "phi3              2              2      0     0  \n"
     ]
    },
    {
     "name": "stderr",
     "output_type": "stream",
     "text": [
      "/var/folders/n4/s8124s797fjd6l5zb_sn00cw0000gn/T/ipykernel_38270/599295365.py:2: DeprecationWarning: DataFrameGroupBy.apply operated on the grouping columns. This behavior is deprecated, and in a future version of pandas the grouping columns will be excluded from the operation. Either pass `include_groups=False` to exclude the groupings or explicitly select the grouping columns after groupby to silence this warning.\n",
      "  print(jan_2017.groupby('model').apply(lambda x: x.isnull().sum()))\n"
     ]
    }
   ],
   "source": [
    "# Count none values depending on model\n",
    "print(jan_2017.groupby('model').apply(lambda x: x.isnull().sum()))"
   ]
  },
  {
   "cell_type": "code",
   "execution_count": 39,
   "metadata": {},
   "outputs": [],
   "source": [
    "# Add a new columns which is the number of none values in the row\n",
    "jan_2017['num_nulls'] = jan_2017.isnull().sum(axis=1)"
   ]
  },
  {
   "cell_type": "code",
   "execution_count": 43,
   "metadata": {},
   "outputs": [
    {
     "data": {
      "text/html": [
       "<div>\n",
       "<style scoped>\n",
       "    .dataframe tbody tr th:only-of-type {\n",
       "        vertical-align: middle;\n",
       "    }\n",
       "\n",
       "    .dataframe tbody tr th {\n",
       "        vertical-align: top;\n",
       "    }\n",
       "\n",
       "    .dataframe thead th {\n",
       "        text-align: right;\n",
       "    }\n",
       "</style>\n",
       "<table border=\"1\" class=\"dataframe\">\n",
       "  <thead>\n",
       "    <tr style=\"text-align: right;\">\n",
       "      <th></th>\n",
       "      <th>pdf</th>\n",
       "      <th>mm_yyyy</th>\n",
       "      <th>company</th>\n",
       "      <th>amount</th>\n",
       "      <th>currency</th>\n",
       "      <th>adjudicadora</th>\n",
       "      <th>tipo</th>\n",
       "      <th>tramitacion</th>\n",
       "      <th>procedimiento</th>\n",
       "      <th>model</th>\n",
       "      <th>time</th>\n",
       "      <th>num_nulls</th>\n",
       "    </tr>\n",
       "  </thead>\n",
       "  <tbody>\n",
       "    <tr>\n",
       "      <th>0</th>\n",
       "      <td>BOE-B-2017-3514.pdf</td>\n",
       "      <td>01-2017</td>\n",
       "      <td>Alavés Montajes y Realización S.L.</td>\n",
       "      <td>1016400.00</td>\n",
       "      <td>euros</td>\n",
       "      <td>Agència Valenciana del Turisme</td>\n",
       "      <td>Contrato Mixto</td>\n",
       "      <td>Urgente</td>\n",
       "      <td>Negociado sin publicidad</td>\n",
       "      <td>llama3</td>\n",
       "      <td>404.64</td>\n",
       "      <td>0</td>\n",
       "    </tr>\n",
       "    <tr>\n",
       "      <th>1</th>\n",
       "      <td>BOE-B-2017-240.pdf</td>\n",
       "      <td>01-2017</td>\n",
       "      <td>International Business Machines S.A. (I.B.M.)</td>\n",
       "      <td>3921166.68</td>\n",
       "      <td>euros</td>\n",
       "      <td>Diputación Foral de Álava</td>\n",
       "      <td>Contrato de suministro</td>\n",
       "      <td>Anticipada</td>\n",
       "      <td>Negociado sin publicidad por razones de exclus...</td>\n",
       "      <td>llama3</td>\n",
       "      <td>411.99</td>\n",
       "      <td>0</td>\n",
       "    </tr>\n",
       "    <tr>\n",
       "      <th>2</th>\n",
       "      <td>BOE-B-2017-2859.pdf</td>\n",
       "      <td>01-2017</td>\n",
       "      <td>Integra Mantenimiento Gestión y Servicios Inte...</td>\n",
       "      <td>440618.45</td>\n",
       "      <td>euros</td>\n",
       "      <td>Ayuntamiento de Madrid. Área de Gobierno de Eq...</td>\n",
       "      <td>Servicios</td>\n",
       "      <td>Ordinaria</td>\n",
       "      <td>Abierto</td>\n",
       "      <td>llama3</td>\n",
       "      <td>352.15</td>\n",
       "      <td>0</td>\n",
       "    </tr>\n",
       "    <tr>\n",
       "      <th>3</th>\n",
       "      <td>BOE-B-2017-470.pdf</td>\n",
       "      <td>01-2017</td>\n",
       "      <td>Teknoservice S.L.</td>\n",
       "      <td>1011150.00</td>\n",
       "      <td>euros</td>\n",
       "      <td>Consejería de Educación y Universidades del Go...</td>\n",
       "      <td>Suministro</td>\n",
       "      <td>Ordinaria</td>\n",
       "      <td>Abierto</td>\n",
       "      <td>llama3</td>\n",
       "      <td>368.93</td>\n",
       "      <td>0</td>\n",
       "    </tr>\n",
       "    <tr>\n",
       "      <th>4</th>\n",
       "      <td>BOE-B-2017-4174.pdf</td>\n",
       "      <td>01-2017</td>\n",
       "      <td>Econocom Osiatis S.A.</td>\n",
       "      <td>360000.00</td>\n",
       "      <td>euros</td>\n",
       "      <td>Ayuntamiento de Vitoria-Gasteiz</td>\n",
       "      <td>Servicio</td>\n",
       "      <td>Normal</td>\n",
       "      <td>Abierto</td>\n",
       "      <td>llama3</td>\n",
       "      <td>414.85</td>\n",
       "      <td>0</td>\n",
       "    </tr>\n",
       "  </tbody>\n",
       "</table>\n",
       "</div>"
      ],
      "text/plain": [
       "                   pdf  mm_yyyy  \\\n",
       "0  BOE-B-2017-3514.pdf  01-2017   \n",
       "1   BOE-B-2017-240.pdf  01-2017   \n",
       "2  BOE-B-2017-2859.pdf  01-2017   \n",
       "3   BOE-B-2017-470.pdf  01-2017   \n",
       "4  BOE-B-2017-4174.pdf  01-2017   \n",
       "\n",
       "                                             company      amount currency  \\\n",
       "0                 Alavés Montajes y Realización S.L.  1016400.00    euros   \n",
       "1      International Business Machines S.A. (I.B.M.)  3921166.68    euros   \n",
       "2  Integra Mantenimiento Gestión y Servicios Inte...   440618.45    euros   \n",
       "3                                  Teknoservice S.L.  1011150.00    euros   \n",
       "4                              Econocom Osiatis S.A.   360000.00    euros   \n",
       "\n",
       "                                        adjudicadora                    tipo  \\\n",
       "0                     Agència Valenciana del Turisme          Contrato Mixto   \n",
       "1                          Diputación Foral de Álava  Contrato de suministro   \n",
       "2  Ayuntamiento de Madrid. Área de Gobierno de Eq...               Servicios   \n",
       "3  Consejería de Educación y Universidades del Go...              Suministro   \n",
       "4                    Ayuntamiento de Vitoria-Gasteiz                Servicio   \n",
       "\n",
       "  tramitacion                                      procedimiento   model  \\\n",
       "0     Urgente                           Negociado sin publicidad  llama3   \n",
       "1  Anticipada  Negociado sin publicidad por razones de exclus...  llama3   \n",
       "2   Ordinaria                                            Abierto  llama3   \n",
       "3   Ordinaria                                            Abierto  llama3   \n",
       "4      Normal                                            Abierto  llama3   \n",
       "\n",
       "     time  num_nulls  \n",
       "0  404.64          0  \n",
       "1  411.99          0  \n",
       "2  352.15          0  \n",
       "3  368.93          0  \n",
       "4  414.85          0  "
      ]
     },
     "execution_count": 43,
     "metadata": {},
     "output_type": "execute_result"
    }
   ],
   "source": [
    "jan_2017.head()"
   ]
  },
  {
   "cell_type": "code",
   "execution_count": 41,
   "metadata": {},
   "outputs": [
    {
     "data": {
      "image/png": "[encoded data removed]",
      "text/plain": [
       "<Figure size 1400x700 with 1 Axes>"
      ]
     },
     "metadata": {},
     "output_type": "display_data"
    }
   ],
   "source": [
    "# Scatter plot of time vs num_nulls colored by model\n",
    "plt.figure(figsize=(14, 7))\n",
    "for model, group in jan_2017.groupby('model'):\n",
    "    plt.scatter(group['time'], group['num_nulls'], label=model, alpha=0.5)\n",
    "plt.legend()\n",
    "plt.show()"
   ]
  },
  {
   "cell_type": "code",
   "execution_count": 44,
   "metadata": {},
   "outputs": [
    {
     "name": "stdout",
     "output_type": "stream",
     "text": [
      "Llama3 Model Summary:\n",
      "                             OLS Regression Results                            \n",
      "==============================================================================\n",
      "Dep. Variable:                   time   R-squared:                       0.000\n",
      "Model:                            OLS   Adj. R-squared:                 -0.040\n",
      "Method:                 Least Squares   F-statistic:                 0.0001004\n",
      "Date:                Fri, 28 Jun 2024   Prob (F-statistic):              0.992\n",
      "Time:                        17:34:50   Log-Likelihood:                -145.79\n",
      "No. Observations:                  27   AIC:                             295.6\n",
      "Df Residuals:                      25   BIC:                             298.2\n",
      "Df Model:                           1                                         \n",
      "Covariance Type:            nonrobust                                         \n",
      "==============================================================================\n",
      "                 coef    std err          t      P>|t|      [0.025      0.975]\n",
      "------------------------------------------------------------------------------\n",
      "const        364.3715     12.689     28.715      0.000     338.237     390.506\n",
      "num_nulls      0.1227     12.244      0.010      0.992     -25.094      25.340\n",
      "==============================================================================\n",
      "Omnibus:                        0.935   Durbin-Watson:                   1.963\n",
      "Prob(Omnibus):                  0.627   Jarque-Bera (JB):                0.389\n",
      "Skew:                           0.291   Prob(JB):                        0.823\n",
      "Kurtosis:                       3.081   Cond. No.                         1.82\n",
      "==============================================================================\n",
      "\n",
      "Notes:\n",
      "[1] Standard Errors assume that the covariance matrix of the errors is correctly specified.\n",
      "Phi3 Model Summary:\n",
      "                             OLS Regression Results                            \n",
      "==============================================================================\n",
      "Dep. Variable:                   time   R-squared:                       0.050\n",
      "Model:                            OLS   Adj. R-squared:                  0.014\n",
      "Method:                 Least Squares   F-statistic:                     1.374\n",
      "Date:                Fri, 28 Jun 2024   Prob (F-statistic):              0.252\n",
      "Time:                        17:34:50   Log-Likelihood:                -168.32\n",
      "No. Observations:                  28   AIC:                             340.6\n",
      "Df Residuals:                      26   BIC:                             343.3\n",
      "Df Model:                           1                                         \n",
      "Covariance Type:            nonrobust                                         \n",
      "==============================================================================\n",
      "                 coef    std err          t      P>|t|      [0.025      0.975]\n",
      "------------------------------------------------------------------------------\n",
      "const        268.9973     20.092     13.388      0.000     227.697     310.297\n",
      "num_nulls    -44.0612     37.589     -1.172      0.252    -121.326      33.204\n",
      "==============================================================================\n",
      "Omnibus:                       53.163   Durbin-Watson:                   1.897\n",
      "Prob(Omnibus):                  0.000   Jarque-Bera (JB):              314.545\n",
      "Skew:                           3.754   Prob(JB):                     4.98e-69\n",
      "Kurtosis:                      17.602   Cond. No.                         1.99\n",
      "==============================================================================\n",
      "\n",
      "Notes:\n",
      "[1] Standard Errors assume that the covariance matrix of the errors is correctly specified.\n"
     ]
    },
    {
     "data": {
      "image/png": "[encoded data removed]",
      "text/plain": [
       "<Figure size 1200x600 with 2 Axes>"
      ]
     },
     "metadata": {},
     "output_type": "display_data"
    }
   ],
   "source": [
    "import pandas as pd\n",
    "import statsmodels.api as sm\n",
    "import matplotlib.pyplot as plt\n",
    "\n",
    "# Assuming the DataFrame is loaded in a variable called df\n",
    "# df = pd.read_csv('your_file.csv') # Load your data here\n",
    "\n",
    "# Separate the data by model\n",
    "llama3_data = jan_2017[jan_2017['model'] == 'llama3']\n",
    "phi3_data = jan_2017[jan_2017['model'] == 'phi3']\n",
    "\n",
    "# Define a function to perform linear regression\n",
    "def linear_regression(data, x_col, y_col):\n",
    "    X = data[x_col]\n",
    "    Y = data[y_col]\n",
    "    X = sm.add_constant(X)  # Adds a constant term to the predictor\n",
    "    model = sm.OLS(Y, X).fit()\n",
    "    return model\n",
    "\n",
    "# Perform regression for llama3\n",
    "llama3_model = linear_regression(llama3_data, 'num_nulls', 'time')\n",
    "print(\"Llama3 Model Summary:\\n\", llama3_model.summary())\n",
    "\n",
    "# Perform regression for phi3\n",
    "phi3_model = linear_regression(phi3_data, 'num_nulls', 'time')\n",
    "print(\"Phi3 Model Summary:\\n\", phi3_model.summary())\n",
    "\n",
    "# Plotting the results\n",
    "plt.figure(figsize=(12, 6))\n",
    "\n",
    "# Plot for llama3\n",
    "plt.subplot(1, 2, 1)\n",
    "plt.scatter(llama3_data['num_nulls'], llama3_data['time'], color='blue')\n",
    "plt.plot(llama3_data['num_nulls'], llama3_model.predict(sm.add_constant(llama3_data['num_nulls'])), color='red')\n",
    "plt.title('Llama3: Time vs Num_Nulls')\n",
    "plt.xlabel('Num_Nulls')\n",
    "plt.ylabel('Time')\n",
    "\n",
    "# Plot for phi3\n",
    "plt.subplot(1, 2, 2)\n",
    "plt.scatter(phi3_data['num_nulls'], phi3_data['time'], color='blue')\n",
    "plt.plot(phi3_data['num_nulls'], phi3_model.predict(sm.add_constant(phi3_data['num_nulls'])), color='red')\n",
    "plt.title('Phi3: Time vs Num_Nulls')\n",
    "plt.xlabel('Num_Nulls')\n",
    "plt.ylabel('Time')\n",
    "\n",
    "plt.tight_layout()\n",
    "plt.show()\n"
   ]
  },
  {
   "cell_type": "code",
   "execution_count": 1,
   "metadata": {},
   "outputs": [
    {
     "name": "stdout",
     "output_type": "stream",
     "text": [
      "              company\n",
      "0  junta de andalucia\n",
      "1  junta de andalucia\n",
      "2    acme corporation\n",
      "3             acmecor\n",
      "4            beta llc\n",
      "5            beta llc\n",
      "6          gamma inc.\n"
     ]
    }
   ],
   "source": [
    "import pandas as pd\n",
    "from collections import defaultdict\n",
    "\n",
    "def levenshtein_distance(a, b):\n",
    "    \"\"\"\n",
    "    Calculates the Levenshtein distance between two strings.\n",
    "    \"\"\"\n",
    "    if len(a) < len(b):\n",
    "        return levenshtein_distance(b, a)\n",
    "    \n",
    "    if len(b) == 0:\n",
    "        return len(a)\n",
    "    \n",
    "    previous_row = range(len(b) + 1)\n",
    "    for i, c1 in enumerate(a):\n",
    "        current_row = [i + 1]\n",
    "        for j, c2 in enumerate(b):\n",
    "            insertions = previous_row[j + 1] + 1\n",
    "            deletions = current_row[j] + 1\n",
    "            substitutions = previous_row[j] + (c1 != c2)\n",
    "            current_row.append(min(insertions, deletions, substitutions))\n",
    "        previous_row = current_row\n",
    "    \n",
    "    return previous_row[-1]\n",
    "\n",
    "def normalize_string(name):\n",
    "    \"\"\"\n",
    "    Normalizes a string by stripping leading/trailing spaces\n",
    "    and converting to lowercase.\n",
    "    \"\"\"\n",
    "    return str(name).strip().lower()\n",
    "\n",
    "def find_representative(names):\n",
    "    \"\"\"\n",
    "    Finds a representative name for a group of similar names.\n",
    "    \"\"\"\n",
    "    # For simplicity, we can choose the first name in the list as the representative\n",
    "    return names[0]\n",
    "\n",
    "def standardize_strings(df, column_name='company', distance_threshold=3):\n",
    "    \"\"\"\n",
    "    Standardizes company names in the DataFrame, considering case insensitivity,\n",
    "    leading/trailing spaces, and allowing for up to three character differences.\n",
    "    \"\"\"\n",
    "    normalized_names = df[column_name].apply(normalize_string)\n",
    "    unique_names = normalized_names.unique()\n",
    "    \n",
    "    # Create a mapping from normalized name to a representative name\n",
    "    representative_map = {}\n",
    "    for name in unique_names:\n",
    "        found = False\n",
    "        for rep in representative_map:\n",
    "            if levenshtein_distance(name, rep) <= distance_threshold:\n",
    "                representative_map[name] = representative_map[rep]\n",
    "                found = True\n",
    "                break\n",
    "        if not found:\n",
    "            representative_map[name] = name\n",
    "    \n",
    "    # Map the original names to their representatives\n",
    "    standardized_names = normalized_names.map(representative_map)\n",
    "    \n",
    "    # Replace the original column with standardized names\n",
    "    df[column_name] = standardized_names\n",
    "    \n",
    "    return df\n",
    "\n",
    "# Example usage\n",
    "data = {\n",
    "    'company': ['Junta de Andalucia', 'La Junta de andalucia', 'ACME Corporation', 'AcmeCor', 'Beta LLC', 'beta llc', 'Gamma Inc.']\n",
    "}\n",
    "df = pd.DataFrame(data)\n",
    "\n",
    "standardized_df = standardize_strings(df)\n",
    "print(standardized_df)\n"
   ]
  },
  {
   "cell_type": "code",
   "execution_count": null,
   "metadata": {},
   "outputs": [],
   "source": []
  }
 ],
 "metadata": {
  "kernelspec": {
   "display_name": "tfg_analysis",
   "language": "python",
   "name": "python3"
  },
  "language_info": {
   "codemirror_mode": {
    "name": "ipython",
    "version": 3
   },
   "file_extension": ".py",
   "mimetype": "text/x-python",
   "name": "python",
   "nbconvert_exporter": "python",
   "pygments_lexer": "ipython3",
   "version": "3.12.4"
  }
 },
 "nbformat": 4,
 "nbformat_minor": 2
}
